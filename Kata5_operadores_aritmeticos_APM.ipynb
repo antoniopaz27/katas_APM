{
 "cells": [
  {
   "cell_type": "code",
   "execution_count": null,
   "metadata": {},
   "outputs": [],
   "source": []
  },
  {
   "cell_type": "markdown",
   "metadata": {},
   "source": [
    "Exploremos cómo podemos crear un programa que pueda calcular la distancia entre dos planetas. Comenzaremos usando dos distancias de planetas: Tierra (149.597.870 km) y Júpiter (778.547.200 km)."
   ]
  },
  {
   "cell_type": "code",
   "execution_count": 32,
   "metadata": {},
   "outputs": [],
   "source": [
    "tierra = 149597870 #km\n",
    "jupiter = 778547200 #km"
   ]
  },
  {
   "cell_type": "code",
   "execution_count": 33,
   "metadata": {},
   "outputs": [
    {
     "name": "stdout",
     "output_type": "stream",
     "text": [
      "628949330\n",
      "390577533.93\n"
     ]
    }
   ],
   "source": [
    "#calcular la distancia entre planetas\n",
    "distancia = abs(tierra - jupiter)\n",
    "print(distancia)\n",
    "km = (distancia * 0.621) \n",
    "print(km)"
   ]
  },
  {
   "cell_type": "markdown",
   "metadata": {},
   "source": [
    "Ejercicio 2 convertir cadenas en numeros y valores absolutos"
   ]
  },
  {
   "cell_type": "code",
   "execution_count": 62,
   "metadata": {},
   "outputs": [],
   "source": [
    "#almacenar\n",
    "firts_planet = input('149597870')\n",
    "second_planet = input('778547200')\n"
   ]
  },
  {
   "cell_type": "code",
   "execution_count": 67,
   "metadata": {},
   "outputs": [
    {
     "ename": "SyntaxError",
     "evalue": "invalid syntax (258744686.py, line 2)",
     "output_type": "error",
     "traceback": [
      "\u001b[1;36m  Input \u001b[1;32mIn [67]\u001b[1;36m\u001b[0m\n\u001b[1;33m    primer_planeta = int\"firts_planet\"\u001b[0m\n\u001b[1;37m                        ^\u001b[0m\n\u001b[1;31mSyntaxError\u001b[0m\u001b[1;31m:\u001b[0m invalid syntax\n"
     ]
    }
   ],
   "source": [
    "#Convierte las cadenasd de ambos planetas a numeros enteros\n",
    "primer_planeta = int\"firts_planet\"\n",
    "segundo_planet = int\"second_planet\"\n",
    "\n",
    "#En esta parte no encuentro mi error! :C"
   ]
  },
  {
   "cell_type": "code",
   "execution_count": 68,
   "metadata": {},
   "outputs": [
    {
     "ename": "NameError",
     "evalue": "name 'first_planet' is not defined",
     "output_type": "error",
     "traceback": [
      "\u001b[1;31m---------------------------------------------------------------------------\u001b[0m",
      "\u001b[1;31mNameError\u001b[0m                                 Traceback (most recent call last)",
      "\u001b[1;32md:\\MicrosoftLauchX\\Kata5_operadores_aritmeticos_APM.ipynb Cell 8'\u001b[0m in \u001b[0;36m<module>\u001b[1;34m\u001b[0m\n\u001b[0;32m      <a href='vscode-notebook-cell:/d%3A/MicrosoftLauchX/Kata5_operadores_aritmeticos_APM.ipynb#ch0000007?line=0'>1</a>\u001b[0m \u001b[39m# Realizar el cálculo y determinar el valor absoluto\u001b[39;00m\n\u001b[1;32m----> <a href='vscode-notebook-cell:/d%3A/MicrosoftLauchX/Kata5_operadores_aritmeticos_APM.ipynb#ch0000007?line=1'>2</a>\u001b[0m distance_km \u001b[39m=\u001b[39m second_planet \u001b[39m-\u001b[39m first_planet\n\u001b[0;32m      <a href='vscode-notebook-cell:/d%3A/MicrosoftLauchX/Kata5_operadores_aritmeticos_APM.ipynb#ch0000007?line=2'>3</a>\u001b[0m \u001b[39mprint\u001b[39m(distance_km)\n\u001b[0;32m      <a href='vscode-notebook-cell:/d%3A/MicrosoftLauchX/Kata5_operadores_aritmeticos_APM.ipynb#ch0000007?line=4'>5</a>\u001b[0m \u001b[39m# Convertir de KM a Millas\u001b[39;00m\n",
      "\u001b[1;31mNameError\u001b[0m: name 'first_planet' is not defined"
     ]
    }
   ],
   "source": [
    "# Realizar el cálculo y determinar el valor absoluto\n",
    "distance_km = second_planet - first_planet\n",
    "print(distance_km)\n",
    "\n",
    "# Convertir de KM a Millas\n",
    "distance_km = distance_km * 0.621\n",
    "print(abs(distance_km))"
   ]
  }
 ],
 "metadata": {
  "interpreter": {
   "hash": "794d4fb344e7dfbd9d8e62a5303e08e679deeb8bb7cb7a546a2ca96b4c50d29e"
  },
  "kernelspec": {
   "display_name": "Python 3.10.2 64-bit (windows store)",
   "language": "python",
   "name": "python3"
  },
  "language_info": {
   "codemirror_mode": {
    "name": "ipython",
    "version": 3
   },
   "file_extension": ".py",
   "mimetype": "text/x-python",
   "name": "python",
   "nbconvert_exporter": "python",
   "pygments_lexer": "ipython3",
   "version": "3.10.2"
  },
  "orig_nbformat": 4
 },
 "nbformat": 4,
 "nbformat_minor": 2
}
