{
 "cells": [
  {
   "cell_type": "code",
   "execution_count": 16,
   "metadata": {},
   "outputs": [
    {
     "name": "stdout",
     "output_type": "stream",
     "text": [
      "Asteroide se acerca a una velocidad mayor o igual de 25km/h!!\n"
     ]
    }
   ],
   "source": [
    "#Un asteroide se acerca, y viaja a una velocidad de 49 km/s.\n",
    "\n",
    "# Añadir el código necesario para crear una variable que guarde la velocidad del asteroide.\n",
    "v = 49\n",
    "\n",
    "# Escribe una expresión de prueba para calcular si necesita una advertencia.\n",
    "if v >= 25: # si laexpresion de prueba es TRUE\n",
    "    print(\"Asteroide se acerca a una velocidad mayor o igual de 25km/h!!\")\n",
    "else:\n",
    "    print(\"Asteroide detectado, a velocidad menor o igual a 25km/h, todo bien\")"
   ]
  },
  {
   "cell_type": "code",
   "execution_count": 19,
   "metadata": {},
   "outputs": [
    {
     "name": "stdout",
     "output_type": "stream",
     "text": [
      "Todo sereno!\n"
     ]
    }
   ],
   "source": [
    "# Agrega el código para crear una variable para un asteroide que viaja a 19 km/s\n",
    "v = 19\n",
    "# Escribe varias expresiones de prueba para determinar si puedes ver el rayo de luz desde la tierra\n",
    "if v > 20: # si laexpresion de prueba es TRUE\n",
    "    print(\"Un rayo de luz en el cielo indica un asteroide con velocidad igual o mayor a 20km/h!!\")\n",
    "elif v == 20:\n",
    "    print(\"Un rayo de luz en el cielo indica un asteroide con velocidad igual o mayor a 20km/h!!\")\n",
    "else:\n",
    "    print(\"Todo sereno!\")\n",
    "# Agrega las instrucciones que se ejecutarán si las expresiones de prueba son True o False"
   ]
  },
  {
   "cell_type": "code",
   "execution_count": 24,
   "metadata": {},
   "outputs": [
    {
     "name": "stdout",
     "output_type": "stream",
     "text": [
      "Asteroide se acerca a una velocidad mayor o igual de 25km/h!!,además es enorme. Amenaza nivel Dios!\n"
     ]
    }
   ],
   "source": [
    "v = 25\n",
    "t = 40\n",
    "if v>=25 and t > 25:\n",
    "    print(\"Asteroide se acerca a una velocidad mayor o igual de 25km/h!!,además es enorme. Amenaza nivel Dios!\")  \n",
    "elif v >= 20:\n",
    "    print(\"Esa luz en el cielo indica un asteróide que no es peligros\")\n",
    "elif t < 25:\n",
    "    print(\"Entró un asteroide que afortunadamente se desintegró al entrar a la atmosfera\")\n",
    "else:\n",
    "    print(\"Todo sereno\")"
   ]
  }
 ],
 "metadata": {
  "interpreter": {
   "hash": "794d4fb344e7dfbd9d8e62a5303e08e679deeb8bb7cb7a546a2ca96b4c50d29e"
  },
  "kernelspec": {
   "display_name": "Python 3.10.2 64-bit (windows store)",
   "language": "python",
   "name": "python3"
  },
  "language_info": {
   "codemirror_mode": {
    "name": "ipython",
    "version": 3
   },
   "file_extension": ".py",
   "mimetype": "text/x-python",
   "name": "python",
   "nbconvert_exporter": "python",
   "pygments_lexer": "ipython3",
   "version": "3.10.2"
  },
  "orig_nbformat": 4
 },
 "nbformat": 4,
 "nbformat_minor": 2
}
